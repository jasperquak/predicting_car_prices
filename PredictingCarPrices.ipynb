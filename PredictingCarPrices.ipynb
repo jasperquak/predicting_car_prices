{
 "cells": [
  {
   "cell_type": "markdown",
   "metadata": {},
   "source": [
    "# Predicting Car Prices\n",
    "\n",
    "In this project we will develop, and test, a model that predicts car prices based on set of car features, making use of the k-nearest-neighbor (KNN) algorithm.\n",
    "\n",
    "**Data source**\n",
    "\n",
    "We will make use of a (small) set of data that was published in the UCI Machine Learning Repository. It contains data of 200+ cars from the 1985 edition of Ward's Automotive Yearbook. Visit the UCI site to find [a description of the data](https://archive.ics.uci.edu/ml/datasets/automobile), and to [download the data](https://archive.ics.uci.edu/ml/machine-learning-databases/autos/). \n",
    "\n",
    "**About KNN**\n",
    "\n",
    "Let me explain in layman's term about KNN and how we will apply it to the problem at hand.\n",
    "\n",
    "Suppose we have a collection of cars, including their prices. Now we have a new car for which we don't know the price, but want to predict it. What makes sense then, is that you look for some similar cars (e.g. \"other cars that are large and have a strong engine\" - if that's what characterizes the new car), and use the known prices of those similar cars to do the prediction.\n",
    "\n",
    "So that is KNN. NN stands for \"nearest neighbors\", that is: the \"most similar\" cars from our set. K represents the *number* of most similar cars that is used. E.g. K=3 means that you take the 3 most similar cars. Then, to make a prediction of the price, we will take the mean price of the selected set. \n",
    "\n",
    "For \"most similar\" we look at one or more features, such as the examples of \"size\" and \"engine power\". Suppose we only take one feauture, e.g. size. Which we (happen to) have as \"length in mm\". Then a distance between a car in our known set and the new car can be calculated: the difference in this length. E.g. 22mm (similar) or 136mm (not so similar). Those cars for which that distance is the lowest are the \"most similar\" once. This is called a univariate model.\n",
    "\n",
    "In a multivariate model you would look for similarity for more than one feature at the same time. E.g. both for \"length in mm\" and for \"engine power in kW\" you know the difference between the new car and any other car. E.g. 22 (mm) and 12 (kW) And you need to consider both of those to define the distance. It goes a bit a far to explain the math, however the \"Eucledian distance\" is a good measure. For a model with two features, this can be imagined as the straight-line distance between two points (x1,y1) and (x2,y2) in a plain. For a model with three features, as the straight-line distance in a three-dimensional space. Then, also here, most similar are those with the lowest difference in distance.\n",
    "\n",
    "Many sources on the web explain this with more detail (and possibly better...). Refer e.g. [here](https://towardsdatascience.com/k-nearest-neighbors-knn-explained-cbc31849a7e3).\n",
    " \n",
    "**Notebook structure**\n",
    "\n",
    "This notebook has the following structure:\n",
    "1. Data preparation  \n",
    "1.1 Initial data exploration  \n",
    "1.2 Data cleaning  \n",
    "1.3 Data normalization  \n",
    "2. Predicting prices (KNN)  \n",
    "2.1 Preparations  \n",
    "2.2 Univariate model: one feature column    \n",
    "2.3 Univariate model: vary k   \n",
    "2.4 A side-step: correlation table   \n",
    "2.5 Multivariate model: more than one feature column  \n",
    "2.6 Univariate model: vary k  \n",
    "2.7 Sensitivity to the split train / test  \n",
    "3. Conclusions and possible next steps\n"
   ]
  },
  {
   "cell_type": "markdown",
   "metadata": {},
   "source": [
    "# 1. Data preparation\n",
    "\n",
    "In this section we will make the data suitable for our goal: importing, cleaning and normalizing.\n",
    "\n",
    "\n",
    "## 1.1 Initial data exploration\n",
    "\n",
    "Let's start with importing the data and do some initial exploration."
   ]
  },
  {
   "cell_type": "code",
   "execution_count": 1,
   "metadata": {},
   "outputs": [],
   "source": [
    "# Import relevant libraries and enable plotting inline\n",
    "\n",
    "import pandas as pd\n",
    "import numpy as np\n",
    "\n",
    "import matplotlib.pyplot as plt\n",
    "%matplotlib inline"
   ]
  },
  {
   "cell_type": "markdown",
   "metadata": {},
   "source": [
    "As the data does not contains any headers, they will be added during the import of the data. Column names were taken from \"import-85.names\" file in the [data folder](https://archive.ics.uci.edu/ml/machine-learning-databases/autos/)."
   ]
  },
  {
   "cell_type": "code",
   "execution_count": 2,
   "metadata": {},
   "outputs": [],
   "source": [
    "# Specify the column names (taken from \"import-85.names\")\n",
    "colnames = [\"symboling\", \"normalized-losses\", \"make\", \"fuel-type\", \"aspiration\", \"num-of-doors\", \"body-style\", \"drive-wheels\", \"engine-location\", \"wheel-base\", \"length\", \"width\", \"height\", \"curb-weight\", \"engine-type\", \"num-of-cylinders\", \"engine-size\", \"fuel-system\", \"bore\", \"stroke\", \"compression-ratio\", \"horsepower\", \"peak-rpm\", \"city-mpg\", \"highway-mpg\", \"price\"]\n",
    "\n",
    "# Import the data (saved in the same folder as this notebook) into a dataframe\n",
    "cars = pd.read_csv('imports-85.data', names = colnames, header = None)"
   ]
  },
  {
   "cell_type": "code",
   "execution_count": 3,
   "metadata": {},
   "outputs": [
    {
     "data": {
      "text/html": [
       "<div>\n",
       "<style scoped>\n",
       "    .dataframe tbody tr th:only-of-type {\n",
       "        vertical-align: middle;\n",
       "    }\n",
       "\n",
       "    .dataframe tbody tr th {\n",
       "        vertical-align: top;\n",
       "    }\n",
       "\n",
       "    .dataframe thead th {\n",
       "        text-align: right;\n",
       "    }\n",
       "</style>\n",
       "<table border=\"1\" class=\"dataframe\">\n",
       "  <thead>\n",
       "    <tr style=\"text-align: right;\">\n",
       "      <th></th>\n",
       "      <th>symboling</th>\n",
       "      <th>normalized-losses</th>\n",
       "      <th>make</th>\n",
       "      <th>fuel-type</th>\n",
       "      <th>aspiration</th>\n",
       "      <th>num-of-doors</th>\n",
       "      <th>body-style</th>\n",
       "      <th>drive-wheels</th>\n",
       "      <th>engine-location</th>\n",
       "      <th>wheel-base</th>\n",
       "      <th>length</th>\n",
       "      <th>width</th>\n",
       "      <th>height</th>\n",
       "      <th>curb-weight</th>\n",
       "      <th>engine-type</th>\n",
       "      <th>num-of-cylinders</th>\n",
       "      <th>engine-size</th>\n",
       "      <th>fuel-system</th>\n",
       "      <th>bore</th>\n",
       "      <th>stroke</th>\n",
       "      <th>compression-ratio</th>\n",
       "      <th>horsepower</th>\n",
       "      <th>peak-rpm</th>\n",
       "      <th>city-mpg</th>\n",
       "      <th>highway-mpg</th>\n",
       "      <th>price</th>\n",
       "    </tr>\n",
       "  </thead>\n",
       "  <tbody>\n",
       "    <tr>\n",
       "      <td>0</td>\n",
       "      <td>3</td>\n",
       "      <td>?</td>\n",
       "      <td>alfa-romero</td>\n",
       "      <td>gas</td>\n",
       "      <td>std</td>\n",
       "      <td>two</td>\n",
       "      <td>convertible</td>\n",
       "      <td>rwd</td>\n",
       "      <td>front</td>\n",
       "      <td>88.6</td>\n",
       "      <td>168.8</td>\n",
       "      <td>64.1</td>\n",
       "      <td>48.8</td>\n",
       "      <td>2548</td>\n",
       "      <td>dohc</td>\n",
       "      <td>four</td>\n",
       "      <td>130</td>\n",
       "      <td>mpfi</td>\n",
       "      <td>3.47</td>\n",
       "      <td>2.68</td>\n",
       "      <td>9.0</td>\n",
       "      <td>111</td>\n",
       "      <td>5000</td>\n",
       "      <td>21</td>\n",
       "      <td>27</td>\n",
       "      <td>13495</td>\n",
       "    </tr>\n",
       "    <tr>\n",
       "      <td>1</td>\n",
       "      <td>3</td>\n",
       "      <td>?</td>\n",
       "      <td>alfa-romero</td>\n",
       "      <td>gas</td>\n",
       "      <td>std</td>\n",
       "      <td>two</td>\n",
       "      <td>convertible</td>\n",
       "      <td>rwd</td>\n",
       "      <td>front</td>\n",
       "      <td>88.6</td>\n",
       "      <td>168.8</td>\n",
       "      <td>64.1</td>\n",
       "      <td>48.8</td>\n",
       "      <td>2548</td>\n",
       "      <td>dohc</td>\n",
       "      <td>four</td>\n",
       "      <td>130</td>\n",
       "      <td>mpfi</td>\n",
       "      <td>3.47</td>\n",
       "      <td>2.68</td>\n",
       "      <td>9.0</td>\n",
       "      <td>111</td>\n",
       "      <td>5000</td>\n",
       "      <td>21</td>\n",
       "      <td>27</td>\n",
       "      <td>16500</td>\n",
       "    </tr>\n",
       "    <tr>\n",
       "      <td>2</td>\n",
       "      <td>1</td>\n",
       "      <td>?</td>\n",
       "      <td>alfa-romero</td>\n",
       "      <td>gas</td>\n",
       "      <td>std</td>\n",
       "      <td>two</td>\n",
       "      <td>hatchback</td>\n",
       "      <td>rwd</td>\n",
       "      <td>front</td>\n",
       "      <td>94.5</td>\n",
       "      <td>171.2</td>\n",
       "      <td>65.5</td>\n",
       "      <td>52.4</td>\n",
       "      <td>2823</td>\n",
       "      <td>ohcv</td>\n",
       "      <td>six</td>\n",
       "      <td>152</td>\n",
       "      <td>mpfi</td>\n",
       "      <td>2.68</td>\n",
       "      <td>3.47</td>\n",
       "      <td>9.0</td>\n",
       "      <td>154</td>\n",
       "      <td>5000</td>\n",
       "      <td>19</td>\n",
       "      <td>26</td>\n",
       "      <td>16500</td>\n",
       "    </tr>\n",
       "    <tr>\n",
       "      <td>3</td>\n",
       "      <td>2</td>\n",
       "      <td>164</td>\n",
       "      <td>audi</td>\n",
       "      <td>gas</td>\n",
       "      <td>std</td>\n",
       "      <td>four</td>\n",
       "      <td>sedan</td>\n",
       "      <td>fwd</td>\n",
       "      <td>front</td>\n",
       "      <td>99.8</td>\n",
       "      <td>176.6</td>\n",
       "      <td>66.2</td>\n",
       "      <td>54.3</td>\n",
       "      <td>2337</td>\n",
       "      <td>ohc</td>\n",
       "      <td>four</td>\n",
       "      <td>109</td>\n",
       "      <td>mpfi</td>\n",
       "      <td>3.19</td>\n",
       "      <td>3.40</td>\n",
       "      <td>10.0</td>\n",
       "      <td>102</td>\n",
       "      <td>5500</td>\n",
       "      <td>24</td>\n",
       "      <td>30</td>\n",
       "      <td>13950</td>\n",
       "    </tr>\n",
       "    <tr>\n",
       "      <td>4</td>\n",
       "      <td>2</td>\n",
       "      <td>164</td>\n",
       "      <td>audi</td>\n",
       "      <td>gas</td>\n",
       "      <td>std</td>\n",
       "      <td>four</td>\n",
       "      <td>sedan</td>\n",
       "      <td>4wd</td>\n",
       "      <td>front</td>\n",
       "      <td>99.4</td>\n",
       "      <td>176.6</td>\n",
       "      <td>66.4</td>\n",
       "      <td>54.3</td>\n",
       "      <td>2824</td>\n",
       "      <td>ohc</td>\n",
       "      <td>five</td>\n",
       "      <td>136</td>\n",
       "      <td>mpfi</td>\n",
       "      <td>3.19</td>\n",
       "      <td>3.40</td>\n",
       "      <td>8.0</td>\n",
       "      <td>115</td>\n",
       "      <td>5500</td>\n",
       "      <td>18</td>\n",
       "      <td>22</td>\n",
       "      <td>17450</td>\n",
       "    </tr>\n",
       "  </tbody>\n",
       "</table>\n",
       "</div>"
      ],
      "text/plain": [
       "   symboling normalized-losses         make fuel-type aspiration num-of-doors  \\\n",
       "0          3                 ?  alfa-romero       gas        std          two   \n",
       "1          3                 ?  alfa-romero       gas        std          two   \n",
       "2          1                 ?  alfa-romero       gas        std          two   \n",
       "3          2               164         audi       gas        std         four   \n",
       "4          2               164         audi       gas        std         four   \n",
       "\n",
       "    body-style drive-wheels engine-location  wheel-base  length  width  \\\n",
       "0  convertible          rwd           front        88.6   168.8   64.1   \n",
       "1  convertible          rwd           front        88.6   168.8   64.1   \n",
       "2    hatchback          rwd           front        94.5   171.2   65.5   \n",
       "3        sedan          fwd           front        99.8   176.6   66.2   \n",
       "4        sedan          4wd           front        99.4   176.6   66.4   \n",
       "\n",
       "   height  curb-weight engine-type num-of-cylinders  engine-size fuel-system  \\\n",
       "0    48.8         2548        dohc             four          130        mpfi   \n",
       "1    48.8         2548        dohc             four          130        mpfi   \n",
       "2    52.4         2823        ohcv              six          152        mpfi   \n",
       "3    54.3         2337         ohc             four          109        mpfi   \n",
       "4    54.3         2824         ohc             five          136        mpfi   \n",
       "\n",
       "   bore stroke  compression-ratio horsepower peak-rpm  city-mpg  highway-mpg  \\\n",
       "0  3.47   2.68                9.0        111     5000        21           27   \n",
       "1  3.47   2.68                9.0        111     5000        21           27   \n",
       "2  2.68   3.47                9.0        154     5000        19           26   \n",
       "3  3.19   3.40               10.0        102     5500        24           30   \n",
       "4  3.19   3.40                8.0        115     5500        18           22   \n",
       "\n",
       "   price  \n",
       "0  13495  \n",
       "1  16500  \n",
       "2  16500  \n",
       "3  13950  \n",
       "4  17450  "
      ]
     },
     "execution_count": 3,
     "metadata": {},
     "output_type": "execute_result"
    }
   ],
   "source": [
    "# Show a sample (ensure that all columns are visible)\n",
    "pd.set_option('display.max_columns', None)\n",
    "cars.head(5)"
   ]
  },
  {
   "cell_type": "code",
   "execution_count": 4,
   "metadata": {},
   "outputs": [
    {
     "name": "stdout",
     "output_type": "stream",
     "text": [
      "<class 'pandas.core.frame.DataFrame'>\n",
      "RangeIndex: 205 entries, 0 to 204\n",
      "Data columns (total 26 columns):\n",
      "symboling            205 non-null int64\n",
      "normalized-losses    205 non-null object\n",
      "make                 205 non-null object\n",
      "fuel-type            205 non-null object\n",
      "aspiration           205 non-null object\n",
      "num-of-doors         205 non-null object\n",
      "body-style           205 non-null object\n",
      "drive-wheels         205 non-null object\n",
      "engine-location      205 non-null object\n",
      "wheel-base           205 non-null float64\n",
      "length               205 non-null float64\n",
      "width                205 non-null float64\n",
      "height               205 non-null float64\n",
      "curb-weight          205 non-null int64\n",
      "engine-type          205 non-null object\n",
      "num-of-cylinders     205 non-null object\n",
      "engine-size          205 non-null int64\n",
      "fuel-system          205 non-null object\n",
      "bore                 205 non-null object\n",
      "stroke               205 non-null object\n",
      "compression-ratio    205 non-null float64\n",
      "horsepower           205 non-null object\n",
      "peak-rpm             205 non-null object\n",
      "city-mpg             205 non-null int64\n",
      "highway-mpg          205 non-null int64\n",
      "price                205 non-null object\n",
      "dtypes: float64(5), int64(5), object(16)\n",
      "memory usage: 41.8+ KB\n"
     ]
    }
   ],
   "source": [
    "# Show info about dataframe and columns\n",
    "cars.info()"
   ]
  },
  {
   "cell_type": "markdown",
   "metadata": {},
   "source": [
    "What we can observe is that there are 205 rows, and that *technically* there are no missing values (205 non-null for all columns). However, in the sample, we see that column 'normalized-losses' contains \"?\" values. So there are missing values - at least in this column. And possibly in more, which needs to be analyzed and then cleaned.\n",
    "\n",
    "The target column, the one that we will want to predict, is column 'price'.\n",
    "\n",
    "There appear to be quite some columns with numerical values that could act as feature columns. Not only those columns being float64 or int64, but also some of the columns of type 'object'. Some will be more interesting than others probably, e.g. one would expect that 'horsepower' is more relevant than 'height' for a price."
   ]
  },
  {
   "cell_type": "markdown",
   "metadata": {},
   "source": [
    "## 1.2 Data cleaning\n",
    "\n",
    "\n",
    "In this section we'll proceed with cleaning the data.\n",
    "\n",
    "Above we already noticed that at least one column contains \"?\". Let's replace \"?\" with \"NaN\", and then check for NaN values."
   ]
  },
  {
   "cell_type": "code",
   "execution_count": 5,
   "metadata": {},
   "outputs": [],
   "source": [
    "# Replace all \"?\" values with NaN\n",
    "cars.replace(\"?\", np.nan, inplace = True)"
   ]
  },
  {
   "cell_type": "code",
   "execution_count": 6,
   "metadata": {},
   "outputs": [
    {
     "data": {
      "text/plain": [
       "symboling             0\n",
       "normalized-losses    41\n",
       "make                  0\n",
       "fuel-type             0\n",
       "aspiration            0\n",
       "num-of-doors          2\n",
       "body-style            0\n",
       "drive-wheels          0\n",
       "engine-location       0\n",
       "wheel-base            0\n",
       "length                0\n",
       "width                 0\n",
       "height                0\n",
       "curb-weight           0\n",
       "engine-type           0\n",
       "num-of-cylinders      0\n",
       "engine-size           0\n",
       "fuel-system           0\n",
       "bore                  4\n",
       "stroke                4\n",
       "compression-ratio     0\n",
       "horsepower            2\n",
       "peak-rpm              2\n",
       "city-mpg              0\n",
       "highway-mpg           0\n",
       "price                 4\n",
       "dtype: int64"
      ]
     },
     "execution_count": 6,
     "metadata": {},
     "output_type": "execute_result"
    }
   ],
   "source": [
    "# Count NaN values for all columns\n",
    "cars.isnull().sum()"
   ]
  },
  {
   "cell_type": "markdown",
   "metadata": {},
   "source": [
    "Looking at what we know by now, it looks sensible to do the following:\n",
    "* throw away the rows that do not contain a price; data without target value we cannot use\n",
    "* ignore columns that do not contain numeric values; they are not usable for KNN\n",
    "* columns that seem to contain numeric values but are currently \"object\": convert to a numerical format\n",
    "* columns with NaN values: replace the NaN value with the column mean \n",
    "\n",
    "For some of these steps we need to do some more checks on the data first.\n",
    "\n",
    "A question mark are the columns 'num-of-doors' and 'num-of-cilinders'. It may be possible to convert them from text to numbers, but even then they are not continuous. They *are* ordinal though, and more doors and more cilinders could well correlate with a higher price, so possibly we can use them. For those two we will do a bit more analysis first.\n",
    "\n",
    "Let's proceed with all of the above."
   ]
  },
  {
   "cell_type": "code",
   "execution_count": 7,
   "metadata": {},
   "outputs": [
    {
     "name": "stdout",
     "output_type": "stream",
     "text": [
      "201\n"
     ]
    }
   ],
   "source": [
    "# Drop rows for which there is no price\n",
    "cars = cars[cars['price'].notna()]\n",
    "\n",
    "# Check how many rows are left (should be 201 as we had 205 before and observed 4 NaN values)\n",
    "print (len(cars))"
   ]
  },
  {
   "cell_type": "code",
   "execution_count": 8,
   "metadata": {},
   "outputs": [
    {
     "data": {
      "text/plain": [
       "four    113\n",
       "two      86\n",
       "Name: num-of-doors, dtype: int64"
      ]
     },
     "execution_count": 8,
     "metadata": {},
     "output_type": "execute_result"
    }
   ],
   "source": [
    "# Explore what values we have for num-of-doors\n",
    "cars['num-of-doors'].value_counts()"
   ]
  },
  {
   "cell_type": "code",
   "execution_count": 9,
   "metadata": {},
   "outputs": [
    {
     "data": {
      "text/plain": [
       "four      157\n",
       "six        24\n",
       "five       10\n",
       "eight       4\n",
       "two         4\n",
       "three       1\n",
       "twelve      1\n",
       "Name: num-of-cylinders, dtype: int64"
      ]
     },
     "execution_count": 9,
     "metadata": {},
     "output_type": "execute_result"
    }
   ],
   "source": [
    "# Explore what values we have for num-of-cilinders\n",
    "cars['num-of-cylinders'].value_counts()"
   ]
  },
  {
   "cell_type": "markdown",
   "metadata": {},
   "source": [
    "Given this data for 'num-of-doors' and 'num-of-cilinders', they may be of use. Let's keep them. And convert to numeric values."
   ]
  },
  {
   "cell_type": "code",
   "execution_count": 10,
   "metadata": {},
   "outputs": [],
   "source": [
    "# Create dictionary to replace words with numeric values\n",
    "replace_dict = {\"two\": 2, \"three\": 3, \"four\": 4, \"five\": 5, \"six\": 6, \"eight\": 8, \"twelve\": 12}\n",
    "\n",
    "# Replace num-of-doors, num-of-cylinders with numeric values\n",
    "cars = cars.replace({\"num-of-doors\": replace_dict, \"num-of-cylinders\": replace_dict})"
   ]
  },
  {
   "cell_type": "code",
   "execution_count": 11,
   "metadata": {},
   "outputs": [
    {
     "data": {
      "text/plain": [
       "4    113\n",
       "2     86\n",
       "Name: num-of-doors, dtype: int64"
      ]
     },
     "execution_count": 11,
     "metadata": {},
     "output_type": "execute_result"
    }
   ],
   "source": [
    "# Check result (num-of-doors)\n",
    "cars['num-of-doors'].value_counts()"
   ]
  },
  {
   "cell_type": "code",
   "execution_count": 12,
   "metadata": {},
   "outputs": [
    {
     "data": {
      "text/plain": [
       "4     157\n",
       "6      24\n",
       "5      10\n",
       "8       4\n",
       "2       4\n",
       "12      1\n",
       "3       1\n",
       "Name: num-of-cylinders, dtype: int64"
      ]
     },
     "execution_count": 12,
     "metadata": {},
     "output_type": "execute_result"
    }
   ],
   "source": [
    "# Check result (num-of-cylinders)\n",
    "cars['num-of-cylinders'].value_counts()"
   ]
  },
  {
   "cell_type": "markdown",
   "metadata": {},
   "source": [
    "That looks good.\n",
    "\n",
    "Let's now get rid of the columns that we will not use. That is, everything that is non-numeric. And then transform object columns to float columns."
   ]
  },
  {
   "cell_type": "code",
   "execution_count": 13,
   "metadata": {},
   "outputs": [
    {
     "data": {
      "text/html": [
       "<div>\n",
       "<style scoped>\n",
       "    .dataframe tbody tr th:only-of-type {\n",
       "        vertical-align: middle;\n",
       "    }\n",
       "\n",
       "    .dataframe tbody tr th {\n",
       "        vertical-align: top;\n",
       "    }\n",
       "\n",
       "    .dataframe thead th {\n",
       "        text-align: right;\n",
       "    }\n",
       "</style>\n",
       "<table border=\"1\" class=\"dataframe\">\n",
       "  <thead>\n",
       "    <tr style=\"text-align: right;\">\n",
       "      <th></th>\n",
       "      <th>symboling</th>\n",
       "      <th>normalized-losses</th>\n",
       "      <th>num-of-doors</th>\n",
       "      <th>wheel-base</th>\n",
       "      <th>length</th>\n",
       "      <th>width</th>\n",
       "      <th>height</th>\n",
       "      <th>curb-weight</th>\n",
       "      <th>num-of-cylinders</th>\n",
       "      <th>engine-size</th>\n",
       "      <th>bore</th>\n",
       "      <th>stroke</th>\n",
       "      <th>compression-ratio</th>\n",
       "      <th>horsepower</th>\n",
       "      <th>peak-rpm</th>\n",
       "      <th>city-mpg</th>\n",
       "      <th>highway-mpg</th>\n",
       "      <th>price</th>\n",
       "    </tr>\n",
       "  </thead>\n",
       "  <tbody>\n",
       "    <tr>\n",
       "      <td>0</td>\n",
       "      <td>3</td>\n",
       "      <td>NaN</td>\n",
       "      <td>2</td>\n",
       "      <td>88.6</td>\n",
       "      <td>168.8</td>\n",
       "      <td>64.1</td>\n",
       "      <td>48.8</td>\n",
       "      <td>2548</td>\n",
       "      <td>4</td>\n",
       "      <td>130</td>\n",
       "      <td>3.47</td>\n",
       "      <td>2.68</td>\n",
       "      <td>9.0</td>\n",
       "      <td>111</td>\n",
       "      <td>5000</td>\n",
       "      <td>21</td>\n",
       "      <td>27</td>\n",
       "      <td>13495</td>\n",
       "    </tr>\n",
       "    <tr>\n",
       "      <td>1</td>\n",
       "      <td>3</td>\n",
       "      <td>NaN</td>\n",
       "      <td>2</td>\n",
       "      <td>88.6</td>\n",
       "      <td>168.8</td>\n",
       "      <td>64.1</td>\n",
       "      <td>48.8</td>\n",
       "      <td>2548</td>\n",
       "      <td>4</td>\n",
       "      <td>130</td>\n",
       "      <td>3.47</td>\n",
       "      <td>2.68</td>\n",
       "      <td>9.0</td>\n",
       "      <td>111</td>\n",
       "      <td>5000</td>\n",
       "      <td>21</td>\n",
       "      <td>27</td>\n",
       "      <td>16500</td>\n",
       "    </tr>\n",
       "    <tr>\n",
       "      <td>2</td>\n",
       "      <td>1</td>\n",
       "      <td>NaN</td>\n",
       "      <td>2</td>\n",
       "      <td>94.5</td>\n",
       "      <td>171.2</td>\n",
       "      <td>65.5</td>\n",
       "      <td>52.4</td>\n",
       "      <td>2823</td>\n",
       "      <td>6</td>\n",
       "      <td>152</td>\n",
       "      <td>2.68</td>\n",
       "      <td>3.47</td>\n",
       "      <td>9.0</td>\n",
       "      <td>154</td>\n",
       "      <td>5000</td>\n",
       "      <td>19</td>\n",
       "      <td>26</td>\n",
       "      <td>16500</td>\n",
       "    </tr>\n",
       "  </tbody>\n",
       "</table>\n",
       "</div>"
      ],
      "text/plain": [
       "   symboling normalized-losses num-of-doors  wheel-base  length  width  \\\n",
       "0          3               NaN            2        88.6   168.8   64.1   \n",
       "1          3               NaN            2        88.6   168.8   64.1   \n",
       "2          1               NaN            2        94.5   171.2   65.5   \n",
       "\n",
       "   height  curb-weight  num-of-cylinders  engine-size  bore stroke  \\\n",
       "0    48.8         2548                 4          130  3.47   2.68   \n",
       "1    48.8         2548                 4          130  3.47   2.68   \n",
       "2    52.4         2823                 6          152  2.68   3.47   \n",
       "\n",
       "   compression-ratio horsepower peak-rpm  city-mpg  highway-mpg  price  \n",
       "0                9.0        111     5000        21           27  13495  \n",
       "1                9.0        111     5000        21           27  16500  \n",
       "2                9.0        154     5000        19           26  16500  "
      ]
     },
     "execution_count": 13,
     "metadata": {},
     "output_type": "execute_result"
    }
   ],
   "source": [
    "# Specify the relevant columns and keep those\n",
    "relevant_columns = [\"symboling\", \"normalized-losses\", \"num-of-doors\", \"wheel-base\", \"length\", \"width\", \"height\", \"curb-weight\", \"num-of-cylinders\", \"engine-size\", \"bore\", \"stroke\", \"compression-ratio\", \"horsepower\", \"peak-rpm\", \"city-mpg\", \"highway-mpg\", \"price\"]\n",
    "cars = cars[relevant_columns]\n",
    "\n",
    "# Check the result\n",
    "cars.head(3)"
   ]
  },
  {
   "cell_type": "code",
   "execution_count": 14,
   "metadata": {},
   "outputs": [],
   "source": [
    "# Convert columns from objects to float\n",
    "cars = cars.astype({'normalized-losses': float, 'bore': float, 'stroke': float, 'horsepower': float, 'peak-rpm': float, 'price': float})"
   ]
  },
  {
   "cell_type": "code",
   "execution_count": 15,
   "metadata": {},
   "outputs": [
    {
     "name": "stdout",
     "output_type": "stream",
     "text": [
      "<class 'pandas.core.frame.DataFrame'>\n",
      "Int64Index: 201 entries, 0 to 204\n",
      "Data columns (total 18 columns):\n",
      "symboling            201 non-null int64\n",
      "normalized-losses    164 non-null float64\n",
      "num-of-doors         199 non-null object\n",
      "wheel-base           201 non-null float64\n",
      "length               201 non-null float64\n",
      "width                201 non-null float64\n",
      "height               201 non-null float64\n",
      "curb-weight          201 non-null int64\n",
      "num-of-cylinders     201 non-null int64\n",
      "engine-size          201 non-null int64\n",
      "bore                 197 non-null float64\n",
      "stroke               197 non-null float64\n",
      "compression-ratio    201 non-null float64\n",
      "horsepower           199 non-null float64\n",
      "peak-rpm             199 non-null float64\n",
      "city-mpg             201 non-null int64\n",
      "highway-mpg          201 non-null int64\n",
      "price                201 non-null float64\n",
      "dtypes: float64(11), int64(6), object(1)\n",
      "memory usage: 29.8+ KB\n"
     ]
    }
   ],
   "source": [
    "# Confirm that all relevant columns now have a numeric type (int or float)\n",
    "cars.info()"
   ]
  },
  {
   "cell_type": "markdown",
   "metadata": {},
   "source": [
    "Before replacing the remaining NaN values with column means, let's eye-ball a sample of the values of those columns to see whether that seems to be sensible."
   ]
  },
  {
   "cell_type": "code",
   "execution_count": 16,
   "metadata": {},
   "outputs": [
    {
     "data": {
      "text/html": [
       "<div>\n",
       "<style scoped>\n",
       "    .dataframe tbody tr th:only-of-type {\n",
       "        vertical-align: middle;\n",
       "    }\n",
       "\n",
       "    .dataframe tbody tr th {\n",
       "        vertical-align: top;\n",
       "    }\n",
       "\n",
       "    .dataframe thead th {\n",
       "        text-align: right;\n",
       "    }\n",
       "</style>\n",
       "<table border=\"1\" class=\"dataframe\">\n",
       "  <thead>\n",
       "    <tr style=\"text-align: right;\">\n",
       "      <th></th>\n",
       "      <th>normalized-losses</th>\n",
       "      <th>bore</th>\n",
       "      <th>stroke</th>\n",
       "      <th>horsepower</th>\n",
       "      <th>peak-rpm</th>\n",
       "    </tr>\n",
       "  </thead>\n",
       "  <tbody>\n",
       "    <tr>\n",
       "      <td>100</td>\n",
       "      <td>106.0</td>\n",
       "      <td>3.33</td>\n",
       "      <td>3.47</td>\n",
       "      <td>97.0</td>\n",
       "      <td>5200.0</td>\n",
       "    </tr>\n",
       "    <tr>\n",
       "      <td>120</td>\n",
       "      <td>154.0</td>\n",
       "      <td>2.97</td>\n",
       "      <td>3.23</td>\n",
       "      <td>68.0</td>\n",
       "      <td>5500.0</td>\n",
       "    </tr>\n",
       "    <tr>\n",
       "      <td>62</td>\n",
       "      <td>115.0</td>\n",
       "      <td>3.39</td>\n",
       "      <td>3.39</td>\n",
       "      <td>84.0</td>\n",
       "      <td>4800.0</td>\n",
       "    </tr>\n",
       "    <tr>\n",
       "      <td>36</td>\n",
       "      <td>78.0</td>\n",
       "      <td>2.92</td>\n",
       "      <td>3.41</td>\n",
       "      <td>76.0</td>\n",
       "      <td>6000.0</td>\n",
       "    </tr>\n",
       "    <tr>\n",
       "      <td>169</td>\n",
       "      <td>134.0</td>\n",
       "      <td>3.62</td>\n",
       "      <td>3.50</td>\n",
       "      <td>116.0</td>\n",
       "      <td>4800.0</td>\n",
       "    </tr>\n",
       "    <tr>\n",
       "      <td>151</td>\n",
       "      <td>87.0</td>\n",
       "      <td>3.05</td>\n",
       "      <td>3.03</td>\n",
       "      <td>62.0</td>\n",
       "      <td>4800.0</td>\n",
       "    </tr>\n",
       "    <tr>\n",
       "      <td>29</td>\n",
       "      <td>145.0</td>\n",
       "      <td>3.60</td>\n",
       "      <td>3.90</td>\n",
       "      <td>145.0</td>\n",
       "      <td>5000.0</td>\n",
       "    </tr>\n",
       "    <tr>\n",
       "      <td>81</td>\n",
       "      <td>153.0</td>\n",
       "      <td>3.35</td>\n",
       "      <td>3.46</td>\n",
       "      <td>88.0</td>\n",
       "      <td>5000.0</td>\n",
       "    </tr>\n",
       "    <tr>\n",
       "      <td>4</td>\n",
       "      <td>164.0</td>\n",
       "      <td>3.19</td>\n",
       "      <td>3.40</td>\n",
       "      <td>115.0</td>\n",
       "      <td>5500.0</td>\n",
       "    </tr>\n",
       "    <tr>\n",
       "      <td>19</td>\n",
       "      <td>98.0</td>\n",
       "      <td>3.03</td>\n",
       "      <td>3.11</td>\n",
       "      <td>70.0</td>\n",
       "      <td>5400.0</td>\n",
       "    </tr>\n",
       "    <tr>\n",
       "      <td>173</td>\n",
       "      <td>65.0</td>\n",
       "      <td>3.31</td>\n",
       "      <td>3.54</td>\n",
       "      <td>92.0</td>\n",
       "      <td>4200.0</td>\n",
       "    </tr>\n",
       "    <tr>\n",
       "      <td>35</td>\n",
       "      <td>110.0</td>\n",
       "      <td>2.91</td>\n",
       "      <td>3.41</td>\n",
       "      <td>76.0</td>\n",
       "      <td>6000.0</td>\n",
       "    </tr>\n",
       "    <tr>\n",
       "      <td>167</td>\n",
       "      <td>134.0</td>\n",
       "      <td>3.62</td>\n",
       "      <td>3.50</td>\n",
       "      <td>116.0</td>\n",
       "      <td>4800.0</td>\n",
       "    </tr>\n",
       "    <tr>\n",
       "      <td>12</td>\n",
       "      <td>188.0</td>\n",
       "      <td>3.31</td>\n",
       "      <td>3.19</td>\n",
       "      <td>121.0</td>\n",
       "      <td>4250.0</td>\n",
       "    </tr>\n",
       "    <tr>\n",
       "      <td>149</td>\n",
       "      <td>85.0</td>\n",
       "      <td>3.62</td>\n",
       "      <td>2.64</td>\n",
       "      <td>111.0</td>\n",
       "      <td>4800.0</td>\n",
       "    </tr>\n",
       "    <tr>\n",
       "      <td>115</td>\n",
       "      <td>161.0</td>\n",
       "      <td>3.46</td>\n",
       "      <td>3.19</td>\n",
       "      <td>97.0</td>\n",
       "      <td>5000.0</td>\n",
       "    </tr>\n",
       "    <tr>\n",
       "      <td>30</td>\n",
       "      <td>137.0</td>\n",
       "      <td>2.91</td>\n",
       "      <td>3.41</td>\n",
       "      <td>58.0</td>\n",
       "      <td>4800.0</td>\n",
       "    </tr>\n",
       "    <tr>\n",
       "      <td>203</td>\n",
       "      <td>95.0</td>\n",
       "      <td>3.01</td>\n",
       "      <td>3.40</td>\n",
       "      <td>106.0</td>\n",
       "      <td>4800.0</td>\n",
       "    </tr>\n",
       "    <tr>\n",
       "      <td>96</td>\n",
       "      <td>122.0</td>\n",
       "      <td>3.15</td>\n",
       "      <td>3.29</td>\n",
       "      <td>69.0</td>\n",
       "      <td>5200.0</td>\n",
       "    </tr>\n",
       "    <tr>\n",
       "      <td>185</td>\n",
       "      <td>94.0</td>\n",
       "      <td>3.19</td>\n",
       "      <td>3.40</td>\n",
       "      <td>85.0</td>\n",
       "      <td>5250.0</td>\n",
       "    </tr>\n",
       "  </tbody>\n",
       "</table>\n",
       "</div>"
      ],
      "text/plain": [
       "     normalized-losses  bore  stroke  horsepower  peak-rpm\n",
       "100              106.0  3.33    3.47        97.0    5200.0\n",
       "120              154.0  2.97    3.23        68.0    5500.0\n",
       "62               115.0  3.39    3.39        84.0    4800.0\n",
       "36                78.0  2.92    3.41        76.0    6000.0\n",
       "169              134.0  3.62    3.50       116.0    4800.0\n",
       "151               87.0  3.05    3.03        62.0    4800.0\n",
       "29               145.0  3.60    3.90       145.0    5000.0\n",
       "81               153.0  3.35    3.46        88.0    5000.0\n",
       "4                164.0  3.19    3.40       115.0    5500.0\n",
       "19                98.0  3.03    3.11        70.0    5400.0\n",
       "173               65.0  3.31    3.54        92.0    4200.0\n",
       "35               110.0  2.91    3.41        76.0    6000.0\n",
       "167              134.0  3.62    3.50       116.0    4800.0\n",
       "12               188.0  3.31    3.19       121.0    4250.0\n",
       "149               85.0  3.62    2.64       111.0    4800.0\n",
       "115              161.0  3.46    3.19        97.0    5000.0\n",
       "30               137.0  2.91    3.41        58.0    4800.0\n",
       "203               95.0  3.01    3.40       106.0    4800.0\n",
       "96               122.0  3.15    3.29        69.0    5200.0\n",
       "185               94.0  3.19    3.40        85.0    5250.0"
      ]
     },
     "execution_count": 16,
     "metadata": {},
     "output_type": "execute_result"
    }
   ],
   "source": [
    "# Show a (sizeable, reproducable random) sample of the columns that contain NaN values\n",
    "cars[['normalized-losses', 'bore', 'stroke', 'horsepower', 'peak-rpm']].sample(20, random_state = 1)"
   ]
  },
  {
   "cell_type": "markdown",
   "metadata": {},
   "source": [
    "For all of them, that looks okay indeed to replace NaN with column mean."
   ]
  },
  {
   "cell_type": "code",
   "execution_count": 17,
   "metadata": {},
   "outputs": [],
   "source": [
    "# Replace NaN values with columns' mean. (Will be applied to multiple columns.)\n",
    "cars.fillna(cars.mean(), inplace = True)"
   ]
  },
  {
   "cell_type": "code",
   "execution_count": 18,
   "metadata": {},
   "outputs": [
    {
     "data": {
      "text/plain": [
       "symboling            0\n",
       "normalized-losses    0\n",
       "num-of-doors         0\n",
       "wheel-base           0\n",
       "length               0\n",
       "width                0\n",
       "height               0\n",
       "curb-weight          0\n",
       "num-of-cylinders     0\n",
       "engine-size          0\n",
       "bore                 0\n",
       "stroke               0\n",
       "compression-ratio    0\n",
       "horsepower           0\n",
       "peak-rpm             0\n",
       "city-mpg             0\n",
       "highway-mpg          0\n",
       "price                0\n",
       "dtype: int64"
      ]
     },
     "execution_count": 18,
     "metadata": {},
     "output_type": "execute_result"
    }
   ],
   "source": [
    "# Confirm that there are no NaN values anymore\n",
    "cars.isnull().sum()"
   ]
  },
  {
   "cell_type": "markdown",
   "metadata": {},
   "source": [
    "## 1.3 Data normalization\n",
    "\n",
    "As a final preparation step we will apply min-max normalization, so we get values in the interval [0,1] for each column. This is important to avoid that during k-nearest neighbor some columns weigh in more than others.\n",
    "\n",
    "The target column (price) remains unchanged."
   ]
  },
  {
   "cell_type": "code",
   "execution_count": 19,
   "metadata": {},
   "outputs": [
    {
     "data": {
      "text/html": [
       "<div>\n",
       "<style scoped>\n",
       "    .dataframe tbody tr th:only-of-type {\n",
       "        vertical-align: middle;\n",
       "    }\n",
       "\n",
       "    .dataframe tbody tr th {\n",
       "        vertical-align: top;\n",
       "    }\n",
       "\n",
       "    .dataframe thead th {\n",
       "        text-align: right;\n",
       "    }\n",
       "</style>\n",
       "<table border=\"1\" class=\"dataframe\">\n",
       "  <thead>\n",
       "    <tr style=\"text-align: right;\">\n",
       "      <th></th>\n",
       "      <th>symboling</th>\n",
       "      <th>normalized-losses</th>\n",
       "      <th>num-of-doors</th>\n",
       "      <th>wheel-base</th>\n",
       "      <th>length</th>\n",
       "      <th>width</th>\n",
       "      <th>height</th>\n",
       "      <th>curb-weight</th>\n",
       "      <th>num-of-cylinders</th>\n",
       "      <th>engine-size</th>\n",
       "      <th>bore</th>\n",
       "      <th>stroke</th>\n",
       "      <th>compression-ratio</th>\n",
       "      <th>horsepower</th>\n",
       "      <th>peak-rpm</th>\n",
       "      <th>city-mpg</th>\n",
       "      <th>highway-mpg</th>\n",
       "      <th>price</th>\n",
       "    </tr>\n",
       "  </thead>\n",
       "  <tbody>\n",
       "    <tr>\n",
       "      <td>0</td>\n",
       "      <td>1.0</td>\n",
       "      <td>0.298429</td>\n",
       "      <td>0.0</td>\n",
       "      <td>0.058309</td>\n",
       "      <td>0.413433</td>\n",
       "      <td>0.324786</td>\n",
       "      <td>0.083333</td>\n",
       "      <td>0.411171</td>\n",
       "      <td>0.2</td>\n",
       "      <td>0.260377</td>\n",
       "      <td>0.664286</td>\n",
       "      <td>0.290476</td>\n",
       "      <td>0.1250</td>\n",
       "      <td>0.294393</td>\n",
       "      <td>0.346939</td>\n",
       "      <td>0.222222</td>\n",
       "      <td>0.289474</td>\n",
       "      <td>13495.0</td>\n",
       "    </tr>\n",
       "    <tr>\n",
       "      <td>1</td>\n",
       "      <td>1.0</td>\n",
       "      <td>0.298429</td>\n",
       "      <td>0.0</td>\n",
       "      <td>0.058309</td>\n",
       "      <td>0.413433</td>\n",
       "      <td>0.324786</td>\n",
       "      <td>0.083333</td>\n",
       "      <td>0.411171</td>\n",
       "      <td>0.2</td>\n",
       "      <td>0.260377</td>\n",
       "      <td>0.664286</td>\n",
       "      <td>0.290476</td>\n",
       "      <td>0.1250</td>\n",
       "      <td>0.294393</td>\n",
       "      <td>0.346939</td>\n",
       "      <td>0.222222</td>\n",
       "      <td>0.289474</td>\n",
       "      <td>16500.0</td>\n",
       "    </tr>\n",
       "    <tr>\n",
       "      <td>2</td>\n",
       "      <td>0.6</td>\n",
       "      <td>0.298429</td>\n",
       "      <td>0.0</td>\n",
       "      <td>0.230321</td>\n",
       "      <td>0.449254</td>\n",
       "      <td>0.444444</td>\n",
       "      <td>0.383333</td>\n",
       "      <td>0.517843</td>\n",
       "      <td>0.4</td>\n",
       "      <td>0.343396</td>\n",
       "      <td>0.100000</td>\n",
       "      <td>0.666667</td>\n",
       "      <td>0.1250</td>\n",
       "      <td>0.495327</td>\n",
       "      <td>0.346939</td>\n",
       "      <td>0.166667</td>\n",
       "      <td>0.263158</td>\n",
       "      <td>16500.0</td>\n",
       "    </tr>\n",
       "    <tr>\n",
       "      <td>3</td>\n",
       "      <td>0.8</td>\n",
       "      <td>0.518325</td>\n",
       "      <td>1.0</td>\n",
       "      <td>0.384840</td>\n",
       "      <td>0.529851</td>\n",
       "      <td>0.504274</td>\n",
       "      <td>0.541667</td>\n",
       "      <td>0.329325</td>\n",
       "      <td>0.2</td>\n",
       "      <td>0.181132</td>\n",
       "      <td>0.464286</td>\n",
       "      <td>0.633333</td>\n",
       "      <td>0.1875</td>\n",
       "      <td>0.252336</td>\n",
       "      <td>0.551020</td>\n",
       "      <td>0.305556</td>\n",
       "      <td>0.368421</td>\n",
       "      <td>13950.0</td>\n",
       "    </tr>\n",
       "    <tr>\n",
       "      <td>4</td>\n",
       "      <td>0.8</td>\n",
       "      <td>0.518325</td>\n",
       "      <td>1.0</td>\n",
       "      <td>0.373178</td>\n",
       "      <td>0.529851</td>\n",
       "      <td>0.521368</td>\n",
       "      <td>0.541667</td>\n",
       "      <td>0.518231</td>\n",
       "      <td>0.3</td>\n",
       "      <td>0.283019</td>\n",
       "      <td>0.464286</td>\n",
       "      <td>0.633333</td>\n",
       "      <td>0.0625</td>\n",
       "      <td>0.313084</td>\n",
       "      <td>0.551020</td>\n",
       "      <td>0.138889</td>\n",
       "      <td>0.157895</td>\n",
       "      <td>17450.0</td>\n",
       "    </tr>\n",
       "  </tbody>\n",
       "</table>\n",
       "</div>"
      ],
      "text/plain": [
       "   symboling  normalized-losses  num-of-doors  wheel-base    length     width  \\\n",
       "0        1.0           0.298429           0.0    0.058309  0.413433  0.324786   \n",
       "1        1.0           0.298429           0.0    0.058309  0.413433  0.324786   \n",
       "2        0.6           0.298429           0.0    0.230321  0.449254  0.444444   \n",
       "3        0.8           0.518325           1.0    0.384840  0.529851  0.504274   \n",
       "4        0.8           0.518325           1.0    0.373178  0.529851  0.521368   \n",
       "\n",
       "     height  curb-weight  num-of-cylinders  engine-size      bore    stroke  \\\n",
       "0  0.083333     0.411171               0.2     0.260377  0.664286  0.290476   \n",
       "1  0.083333     0.411171               0.2     0.260377  0.664286  0.290476   \n",
       "2  0.383333     0.517843               0.4     0.343396  0.100000  0.666667   \n",
       "3  0.541667     0.329325               0.2     0.181132  0.464286  0.633333   \n",
       "4  0.541667     0.518231               0.3     0.283019  0.464286  0.633333   \n",
       "\n",
       "   compression-ratio  horsepower  peak-rpm  city-mpg  highway-mpg    price  \n",
       "0             0.1250    0.294393  0.346939  0.222222     0.289474  13495.0  \n",
       "1             0.1250    0.294393  0.346939  0.222222     0.289474  16500.0  \n",
       "2             0.1250    0.495327  0.346939  0.166667     0.263158  16500.0  \n",
       "3             0.1875    0.252336  0.551020  0.305556     0.368421  13950.0  \n",
       "4             0.0625    0.313084  0.551020  0.138889     0.157895  17450.0  "
      ]
     },
     "execution_count": 19,
     "metadata": {},
     "output_type": "execute_result"
    }
   ],
   "source": [
    "# Create a new dataframe, with normalized columns (min-max normalization)\n",
    "cars_norm = (cars - cars.min()) / (cars.max() - cars.min())\n",
    "\n",
    "# Put the original price column back in place.\n",
    "cars_norm['price'] = cars['price']\n",
    "\n",
    "# Show a couple of rows to check the result\n",
    "cars_norm.head(5)"
   ]
  },
  {
   "cell_type": "markdown",
   "metadata": {},
   "source": [
    "That looks okay.\n",
    "\n",
    "E.g. for 'num-of-cylinders', for which we know that the original values varied from 2 to 12, it can easily be confirmed (with some arithmetic) that the values of the first couple of rows are correct.\n",
    "\n",
    "Our data is now ready to apply k-nearest neighbor."
   ]
  },
  {
   "cell_type": "markdown",
   "metadata": {},
   "source": [
    "# 2. Predicting prices (KNN)\n",
    "\n",
    "Now we have suitable data, we can proceed with the actual machine learning part: predicting the target column (price) based on feature columns. And validating the result.\n",
    "\n",
    "What will do consecutively:\n",
    "* univariate model: using one feature column at a time\n",
    "* univariate model: tune the value of k\n",
    "* multivariate model: using more than one feature column at a time\n",
    "* multivariate model: tune the value of k\n",
    "\n",
    "During those steps we will use 75% of our data for training and 25% for testing (validation). We will, at the end, do a check though till what extent that choice (75/25) has impact on the results."
   ]
  },
  {
   "cell_type": "markdown",
   "metadata": {},
   "source": [
    "## 2.1 Preparations\n",
    "\n",
    "For all of this, let's import the relevant parts of skikit-learn, and define a function to be able to do what will follow efficiently."
   ]
  },
  {
   "cell_type": "code",
   "execution_count": 20,
   "metadata": {},
   "outputs": [],
   "source": [
    "# Import from skikit-learn that we will use\n",
    "from sklearn.model_selection import train_test_split\n",
    "from sklearn.neighbors import KNeighborsRegressor\n",
    "from sklearn.metrics import mean_squared_error"
   ]
  },
  {
   "cell_type": "markdown",
   "metadata": {},
   "source": [
    "The function that we will define will takes as inputs:\n",
    "* the feauture columns to use (which can be one or more)\n",
    "* the target column (which will be 'price')\n",
    "* the dataframe to use (which will be 'cars-norm')\n",
    "* the value of k (with a default of 5)\n",
    "* the fraction of the data to use for testing (with a default of 0.25)\n",
    "\n",
    "And will return the RMSE (root-mean-square-error) of a comparison between the actual values and the predicted values in the test set. This indicates the quality of the predictions for the provided inputs."
   ]
  },
  {
   "cell_type": "code",
   "execution_count": 21,
   "metadata": {},
   "outputs": [],
   "source": [
    "# Create a function that takes all relevant inputs,trains a train set, predicts on the test set, and returns an RMSE\n",
    "def knn_train_test(train_col, target_col, df, k = 5, test_fraction = 0.25):\n",
    "\n",
    "    # Split dataframe in (reproducable random) train and test sets\n",
    "    train_df, test_df = train_test_split(df, test_size=test_fraction, random_state = 1)\n",
    "    \n",
    "    # Instantiate KNN object\n",
    "    knn = KNeighborsRegressor(k)\n",
    "    \n",
    "    # Train model for feature column on train set\n",
    "    knn.fit(train_df[train_col],train_df[target_col])\n",
    "    \n",
    "    # Create predictions for target column for test set\n",
    "    predictions = knn.predict(test_df[train_col])\n",
    "    \n",
    "    # Get actual values for target column for test set\n",
    "    actuals = test_df[target_col]\n",
    "    \n",
    "    # Get and return RMSE for predictions\n",
    "    rmse = np.sqrt(mean_squared_error(actuals, predictions))\n",
    "    return rmse"
   ]
  },
  {
   "cell_type": "code",
   "execution_count": 22,
   "metadata": {},
   "outputs": [
    {
     "name": "stdout",
     "output_type": "stream",
     "text": [
      "4942.417612750214\n",
      "3794.081404283778\n"
     ]
    }
   ],
   "source": [
    "# Test function with one column (using default values for k and test_fraction)\n",
    "print (knn_train_test([\"wheel-base\"], \"price\", cars_norm)   )\n",
    "\n",
    "# Test function with two columns (while using different values for k and test_frac)\n",
    "print (knn_train_test([\"wheel-base\", \"horsepower\"], \"price\", cars_norm, 3, 0.4)  ) "
   ]
  },
  {
   "cell_type": "markdown",
   "metadata": {},
   "source": [
    "These initial values indicate errors in the price in the order of magnitude of 4000. To get some sense how that relates to the price value itself, let's get descriptive statistics for price."
   ]
  },
  {
   "cell_type": "code",
   "execution_count": 23,
   "metadata": {},
   "outputs": [
    {
     "data": {
      "text/plain": [
       "count      201.000000\n",
       "mean     13207.129353\n",
       "std       7947.066342\n",
       "min       5118.000000\n",
       "25%       7775.000000\n",
       "50%      10295.000000\n",
       "75%      16500.000000\n",
       "max      45400.000000\n",
       "Name: price, dtype: float64"
      ]
     },
     "execution_count": 23,
     "metadata": {},
     "output_type": "execute_result"
    }
   ],
   "source": [
    "# Get descriptive statistics for price\n",
    "cars['price'].describe()"
   ]
  },
  {
   "cell_type": "markdown",
   "metadata": {},
   "source": [
    "Okay, so those are errors in the order of magnitude of half a standard deviation of the price variation."
   ]
  },
  {
   "cell_type": "markdown",
   "metadata": {},
   "source": [
    "## 2.2 Univariate model: one feature column\n",
    "\n",
    "We'll start with getting the results for all univariate models, using one feauture column at a time. That will give us an indication which car features appear to have the best predictive value for the price.\n",
    "\n",
    "At this point, we will use the typical values of k = 5 (number of nearest neighbors) and a split our dataset in 75% for training and 25% for testing."
   ]
  },
  {
   "cell_type": "code",
   "execution_count": 24,
   "metadata": {},
   "outputs": [
    {
     "name": "stdout",
     "output_type": "stream",
     "text": [
      "horsepower 3309.547325126942\n",
      "city-mpg 3498.2814474381844\n",
      "engine-size 3568.017767475326\n",
      "curb-weight 3846.1211499889287\n",
      "length 3929.2878126334554\n",
      "width 3937.650346161712\n",
      "highway-mpg 4003.437151777869\n",
      "wheel-base 4942.417612750214\n",
      "num-of-cylinders 5485.080977971243\n",
      "normalized-losses 6287.165337883389\n",
      "stroke 6483.215850359523\n",
      "compression-ratio 6567.353117400301\n",
      "bore 6642.258305431853\n",
      "symboling 7067.5068527540525\n",
      "peak-rpm 7253.6975779902195\n",
      "num-of-doors 7337.342547784547\n",
      "height 7724.860453184671\n"
     ]
    }
   ],
   "source": [
    "# Get all columns (except price)\n",
    "all_feature_columns = cars_norm.columns.to_list()\n",
    "all_feature_columns.remove('price')\n",
    "\n",
    "# Instanstiate dictionary to collect the results\n",
    "knn_one_feature_results = {}\n",
    "\n",
    "# For each of the columns get the knn-result (using k = 5)\n",
    "for column in all_feature_columns:\n",
    "    rmse = knn_train_test([column], 'price', cars_norm, 5)\n",
    "    knn_one_feature_results[column] = rmse\n",
    "    \n",
    "# Print the results (in sequence) \n",
    "for k in sorted(knn_one_feature_results, key=knn_one_feature_results.get, reverse=False):\n",
    "    print (k, knn_one_feature_results[k])\n"
   ]
  },
  {
   "cell_type": "markdown",
   "metadata": {},
   "source": [
    "What we can see is that the RMSE is lowest for horse power, followed by city-mpg and engine-size. Based on this, those appear to be the best predictors for the price."
   ]
  },
  {
   "cell_type": "markdown",
   "metadata": {},
   "source": [
    "## 2.3 Univariate model: vary k\n",
    "\n",
    "Above, we used a (default) value of k = 5. Let's now get results for different values of k as well (1, 3, 5, 7, 9), and assess till what extent such hyperparameter tuning can improve the predictions. That is: vary with the number of nearest neighbors to use for prediction, and see what that means for error indicator RMSE."
   ]
  },
  {
   "cell_type": "code",
   "execution_count": 25,
   "metadata": {},
   "outputs": [
    {
     "data": {
      "text/html": [
       "<div>\n",
       "<style scoped>\n",
       "    .dataframe tbody tr th:only-of-type {\n",
       "        vertical-align: middle;\n",
       "    }\n",
       "\n",
       "    .dataframe tbody tr th {\n",
       "        vertical-align: top;\n",
       "    }\n",
       "\n",
       "    .dataframe thead th {\n",
       "        text-align: right;\n",
       "    }\n",
       "</style>\n",
       "<table border=\"1\" class=\"dataframe\">\n",
       "  <thead>\n",
       "    <tr style=\"text-align: right;\">\n",
       "      <th></th>\n",
       "      <th>feature</th>\n",
       "      <th>k</th>\n",
       "      <th>RMSE</th>\n",
       "    </tr>\n",
       "  </thead>\n",
       "  <tbody>\n",
       "    <tr>\n",
       "      <td>0</td>\n",
       "      <td>symboling</td>\n",
       "      <td>1</td>\n",
       "      <td>8302.931621</td>\n",
       "    </tr>\n",
       "    <tr>\n",
       "      <td>1</td>\n",
       "      <td>symboling</td>\n",
       "      <td>3</td>\n",
       "      <td>7008.004334</td>\n",
       "    </tr>\n",
       "    <tr>\n",
       "      <td>2</td>\n",
       "      <td>symboling</td>\n",
       "      <td>5</td>\n",
       "      <td>7067.506853</td>\n",
       "    </tr>\n",
       "    <tr>\n",
       "      <td>3</td>\n",
       "      <td>symboling</td>\n",
       "      <td>7</td>\n",
       "      <td>6899.059290</td>\n",
       "    </tr>\n",
       "    <tr>\n",
       "      <td>4</td>\n",
       "      <td>symboling</td>\n",
       "      <td>9</td>\n",
       "      <td>6736.482833</td>\n",
       "    </tr>\n",
       "    <tr>\n",
       "      <td>5</td>\n",
       "      <td>normalized-losses</td>\n",
       "      <td>1</td>\n",
       "      <td>9767.500143</td>\n",
       "    </tr>\n",
       "    <tr>\n",
       "      <td>6</td>\n",
       "      <td>normalized-losses</td>\n",
       "      <td>3</td>\n",
       "      <td>6025.784830</td>\n",
       "    </tr>\n",
       "    <tr>\n",
       "      <td>7</td>\n",
       "      <td>normalized-losses</td>\n",
       "      <td>5</td>\n",
       "      <td>6287.165338</td>\n",
       "    </tr>\n",
       "  </tbody>\n",
       "</table>\n",
       "</div>"
      ],
      "text/plain": [
       "             feature  k         RMSE\n",
       "0          symboling  1  8302.931621\n",
       "1          symboling  3  7008.004334\n",
       "2          symboling  5  7067.506853\n",
       "3          symboling  7  6899.059290\n",
       "4          symboling  9  6736.482833\n",
       "5  normalized-losses  1  9767.500143\n",
       "6  normalized-losses  3  6025.784830\n",
       "7  normalized-losses  5  6287.165338"
      ]
     },
     "execution_count": 25,
     "metadata": {},
     "output_type": "execute_result"
    }
   ],
   "source": [
    "# Instanstiate a list-of-lists to collect the results\n",
    "knn_one_f_many_k = []\n",
    "\n",
    "# Iterate over all feauture columns and k-values, get the RMSE, and add it into list of list\n",
    "for column in all_feature_columns:\n",
    "    for k in [1,3,5,7,9]:\n",
    "        rmse = knn_train_test([column], 'price', cars_norm, k)\n",
    "        knn_one_f_many_k.append([column, k, rmse])\n",
    "        \n",
    "# Convert the list of lists to a dataframe\n",
    "knn_one_f_many_k_df = pd.DataFrame(knn_one_f_many_k, columns = ['feature', 'k', 'RMSE'])\n",
    "\n",
    "# Show a sample of the results\n",
    "knn_one_f_many_k_df.head(8)"
   ]
  },
  {
   "cell_type": "markdown",
   "metadata": {},
   "source": [
    "Let's create a line plot of these results."
   ]
  },
  {
   "cell_type": "code",
   "execution_count": 26,
   "metadata": {},
   "outputs": [
    {
     "data": {
      "image/png": "[encoded data removed]",
      "text/plain": [
       "<Figure size 864x576 with 1 Axes>"
      ]
     },
     "metadata": {
      "needs_background": "light"
     },
     "output_type": "display_data"
    }
   ],
   "source": [
    "# Instantiate plot\n",
    "fig, ax = plt.subplots(figsize = (12,8))\n",
    "\n",
    "# Simplify dataframe name for convenience\n",
    "kom = knn_one_f_many_k_df.copy()\n",
    "\n",
    "# Plot a line for every feature\n",
    "for feature in all_feature_columns:\n",
    "    plt.plot(kom[kom['feature']==feature]['k'], kom[kom['feature']==feature]['RMSE'])\n",
    "    \n",
    "# Set various drawing attributes\n",
    "ax.set_xlabel('value of k')\n",
    "ax.set_ylabel('RMSE')\n",
    "plt.title('RMSE for different k values for univariate knn models')\n",
    "plt.legend(all_feature_columns, ncol = 2)\n",
    "\n",
    "# Show\n",
    "plt.show()"
   ]
  },
  {
   "cell_type": "markdown",
   "metadata": {},
   "source": [
    "Let's show the 10 best values also in table format."
   ]
  },
  {
   "cell_type": "code",
   "execution_count": 27,
   "metadata": {},
   "outputs": [
    {
     "data": {
      "text/html": [
       "<div>\n",
       "<style scoped>\n",
       "    .dataframe tbody tr th:only-of-type {\n",
       "        vertical-align: middle;\n",
       "    }\n",
       "\n",
       "    .dataframe tbody tr th {\n",
       "        vertical-align: top;\n",
       "    }\n",
       "\n",
       "    .dataframe thead th {\n",
       "        text-align: right;\n",
       "    }\n",
       "</style>\n",
       "<table border=\"1\" class=\"dataframe\">\n",
       "  <thead>\n",
       "    <tr style=\"text-align: right;\">\n",
       "      <th></th>\n",
       "      <th>feature</th>\n",
       "      <th>k</th>\n",
       "      <th>RMSE</th>\n",
       "    </tr>\n",
       "  </thead>\n",
       "  <tbody>\n",
       "    <tr>\n",
       "      <td>76</td>\n",
       "      <td>city-mpg</td>\n",
       "      <td>3</td>\n",
       "      <td>2960.584969</td>\n",
       "    </tr>\n",
       "    <tr>\n",
       "      <td>68</td>\n",
       "      <td>horsepower</td>\n",
       "      <td>7</td>\n",
       "      <td>3229.901320</td>\n",
       "    </tr>\n",
       "    <tr>\n",
       "      <td>65</td>\n",
       "      <td>horsepower</td>\n",
       "      <td>1</td>\n",
       "      <td>3274.848061</td>\n",
       "    </tr>\n",
       "    <tr>\n",
       "      <td>67</td>\n",
       "      <td>horsepower</td>\n",
       "      <td>5</td>\n",
       "      <td>3309.547325</td>\n",
       "    </tr>\n",
       "    <tr>\n",
       "      <td>39</td>\n",
       "      <td>curb-weight</td>\n",
       "      <td>9</td>\n",
       "      <td>3318.738145</td>\n",
       "    </tr>\n",
       "    <tr>\n",
       "      <td>46</td>\n",
       "      <td>engine-size</td>\n",
       "      <td>3</td>\n",
       "      <td>3338.422037</td>\n",
       "    </tr>\n",
       "    <tr>\n",
       "      <td>15</td>\n",
       "      <td>wheel-base</td>\n",
       "      <td>1</td>\n",
       "      <td>3431.347083</td>\n",
       "    </tr>\n",
       "    <tr>\n",
       "      <td>75</td>\n",
       "      <td>city-mpg</td>\n",
       "      <td>1</td>\n",
       "      <td>3433.937884</td>\n",
       "    </tr>\n",
       "    <tr>\n",
       "      <td>66</td>\n",
       "      <td>horsepower</td>\n",
       "      <td>3</td>\n",
       "      <td>3469.091557</td>\n",
       "    </tr>\n",
       "    <tr>\n",
       "      <td>77</td>\n",
       "      <td>city-mpg</td>\n",
       "      <td>5</td>\n",
       "      <td>3498.281447</td>\n",
       "    </tr>\n",
       "  </tbody>\n",
       "</table>\n",
       "</div>"
      ],
      "text/plain": [
       "        feature  k         RMSE\n",
       "76     city-mpg  3  2960.584969\n",
       "68   horsepower  7  3229.901320\n",
       "65   horsepower  1  3274.848061\n",
       "67   horsepower  5  3309.547325\n",
       "39  curb-weight  9  3318.738145\n",
       "46  engine-size  3  3338.422037\n",
       "15   wheel-base  1  3431.347083\n",
       "75     city-mpg  1  3433.937884\n",
       "66   horsepower  3  3469.091557\n",
       "77     city-mpg  5  3498.281447"
      ]
     },
     "execution_count": 27,
     "metadata": {},
     "output_type": "execute_result"
    }
   ],
   "source": [
    "# Show top 10 results with the lowest RMSE\n",
    "kom.sort_values('RMSE').head(10)"
   ]
  },
  {
   "cell_type": "markdown",
   "metadata": {},
   "source": [
    "So the best result is for city-mpg with a k-value of 3, followed by horsepower for different k-values.\n",
    "\n",
    "When we looking at the graph, the best result for k hovers between 3 and 6 for most (but not all) \n",
    "feautures, and seems to be 3 if you had to pick one number."
   ]
  },
  {
   "cell_type": "markdown",
   "metadata": {},
   "source": [
    "## 2.4 A side-step: correlation table\n",
    "\n",
    "If our only goal had been to \"identify the features that correlate most to price\", but without wanting to actually create and validate a KNN model, we could just directly have created a correlation table between 'price' and all features.\n",
    "\n",
    "Let us still create such table anyway (using a piece of [code found here](https://www.datasnips.com/48/sorted-absolute-correlation-table/)), and see till what exent the features that surface are similar."
   ]
  },
  {
   "cell_type": "code",
   "execution_count": 28,
   "metadata": {},
   "outputs": [
    {
     "name": "stdout",
     "output_type": "stream",
     "text": [
      "                   Correlation  ABS Correlation\n",
      "price                 1.000000         1.000000\n",
      "engine-size           0.872335         0.872335\n",
      "curb-weight           0.834415         0.834415\n",
      "horsepower            0.809681         0.809681\n",
      "width                 0.751265         0.751265\n",
      "num-of-cylinders      0.708645         0.708645\n",
      "highway-mpg          -0.704692         0.704692\n",
      "length                0.690628         0.690628\n",
      "city-mpg             -0.686571         0.686571\n",
      "wheel-base            0.584642         0.584642\n",
      "bore                  0.543154         0.543154\n",
      "height                0.135486         0.135486\n",
      "normalized-losses     0.133999         0.133999\n",
      "peak-rpm             -0.101542         0.101542\n",
      "symboling            -0.082391         0.082391\n",
      "stroke                0.082267         0.082267\n",
      "compression-ratio     0.071107         0.071107\n",
      "num-of-doors          0.046481         0.046481\n"
     ]
    }
   ],
   "source": [
    "# Create correlation table with one column, display sorted on absolute correlation\n",
    "def correlation_table(data,target_column):\n",
    "    data_num = data.select_dtypes(include=['int','float'])\n",
    "    corr_df = pd.DataFrame(data_num.corrwith(data_num[target_column]),columns=['Correlation']).dropna()\n",
    "    corr_df['ABS Correlation'] = abs(corr_df['Correlation'])\n",
    "    corr_df.sort_values(by=['ABS Correlation'], ascending=False, inplace=True)\n",
    "    print(corr_df)\n",
    "\n",
    "correlation_table(cars_norm, 'price')"
   ]
  },
  {
   "cell_type": "markdown",
   "metadata": {},
   "source": [
    "Interesting. Not exactly the same. What we observe here is that engine-size, curb-weight and horsepower form the top-3 in terms of correlation with price. They also rank high above (univariate models, comparison of RMSE) although not necessarily in that sequence. Our best univariate model used city-mpg though, and that only ranks as the 6th-most feature for correlation with price, which is surprising.\n",
    "\n",
    "Not easy to say what to conclude from this, in particular for selection of features for a multi-variate model. Let's consider the earlier list, that is 'features that give the best results in a univariate model' leading."
   ]
  },
  {
   "cell_type": "markdown",
   "metadata": {},
   "source": [
    "## 2.5 Multivariate model: more than one feature column\n",
    "\n",
    "It is likely that we will get better predictions in case we use more than one feature column at a time. In this section we will do that. We can use the same function that we created before, but then provide multiple columns as training columns.\n",
    "\n",
    "As for which feauture columns to use, we will use combinations of feature columns that came out best in the previous step (univariate models). You may argue what is \"best\", as for different values of k that differs. What we'll do is rank the features by 'lowest RMSE observed' - regardless of the k value that that was for.\n",
    "\n",
    "Refering to a table we printed before the top five features (from best to worst) are:\n",
    "1. city-mpg\n",
    "2. horsepower\n",
    "3. curb-weight\n",
    "4. engine-size\n",
    "5. wheel-base\n",
    "\n",
    "From that list let's train/validate with the the top 1 (that is: univariate still), top 2, top 3, top 4 and top 5 (that is: all 5 of them). We will use k = 5 again (use 5 nearest neighbors)."
   ]
  },
  {
   "cell_type": "code",
   "execution_count": 29,
   "metadata": {},
   "outputs": [
    {
     "name": "stdout",
     "output_type": "stream",
     "text": [
      "['city-mpg']\n",
      "3498.2814474381844\n",
      "['city-mpg', 'horsepower']\n",
      "3790.514570376335\n",
      "['city-mpg', 'horsepower', 'curb-weight']\n",
      "2901.5647794615516\n",
      "['city-mpg', 'horsepower', 'curb-weight', 'engine-size']\n",
      "3177.0166670549743\n",
      "['city-mpg', 'horsepower', 'curb-weight', 'engine-size', 'wheel-base']\n",
      "3272.241707837275\n"
     ]
    }
   ],
   "source": [
    "# List with the top-5 feautures\n",
    "top_5_features = ['city-mpg', 'horsepower', 'curb-weight', 'engine-size', 'wheel-base']\n",
    "\n",
    "# Iterate through top 1 - top 5, for each get (and print) them RMSE for train/test\n",
    "for i in range(1,6):\n",
    "    selected_features = top_5_features[0:i]\n",
    "    rmse = knn_train_test(selected_features,\"price\", cars_norm,5)\n",
    "    print (selected_features)\n",
    "    print (rmse)\n"
   ]
  },
  {
   "cell_type": "markdown",
   "metadata": {},
   "source": [
    "We do not see a very clear pattern. Adding the 2nd feature makes things... worse! But than adding the 3rd feature gives the best result found so far. So it not obvious that one of these five patters will perform best. Let's try out some more combinations from the top-5 feautures. "
   ]
  },
  {
   "cell_type": "code",
   "execution_count": 30,
   "metadata": {},
   "outputs": [
    {
     "name": "stdout",
     "output_type": "stream",
     "text": [
      "['city-mpg', 'curb-weight']\n",
      "2961.9839372801944\n",
      "['horsepower', 'curb-weight']\n",
      "2646.5734490424543\n",
      "['city-mpg', 'horsepower', 'engine-size']\n",
      "2932.103291522463\n",
      "['horsepower', 'curb-weight', 'engine-size']\n",
      "3291.183136329965\n"
     ]
    }
   ],
   "source": [
    "# 1, 3\n",
    "selected_features = ['city-mpg', 'curb-weight']\n",
    "rmse = knn_train_test(selected_features,\"price\", cars_norm, 5)\n",
    "print (selected_features)\n",
    "print (rmse)\n",
    "\n",
    "# 2, 3\n",
    "selected_features = ['horsepower', 'curb-weight']\n",
    "rmse = knn_train_test(selected_features,\"price\", cars_norm, 5)\n",
    "print (selected_features)\n",
    "print (rmse)\n",
    "\n",
    "# 1, 2, 4\n",
    "selected_features = ['city-mpg', 'horsepower', 'engine-size']\n",
    "rmse = knn_train_test(selected_features,\"price\", cars_norm, 5)\n",
    "print (selected_features)\n",
    "print (rmse)\n",
    "\n",
    "# 2, 3, 4\n",
    "selected_features = ['horsepower', 'curb-weight', 'engine-size']\n",
    "rmse = knn_train_test(selected_features,\"price\", cars_norm,5)\n",
    "print (selected_features)\n",
    "print (rmse)\n"
   ]
  },
  {
   "cell_type": "markdown",
   "metadata": {},
   "source": [
    "Indeed, these are not necessarily worse. The combination of feature 2 and 3 ('horsepower' and 'curb-weight') even gives the best result so far. One might want to continue with even more different permuations of these top 5 features (or even include different feautures again). \n",
    "\n",
    "Rather, let us take the best feature combinations we found so far, and start varying with the k value to see what effect that has."
   ]
  },
  {
   "cell_type": "markdown",
   "metadata": {},
   "source": [
    "## 2.6 Univariate model: vary k\n",
    "\n",
    "The best feauture combinations we found (with k = 5) are:\n",
    "* set 1: 'horsepower', 'curb-weight': 2646.5734490424543\n",
    "* set 2: 'city-mpg', 'horsepower', 'curb-weight': 2901.5647794615516\n",
    "* set 3: 'city-mpg', 'horsepower', 'engine-size': 2932.103291522463\n",
    "\n",
    "For these three combinations, let us try out a range of different k-values (1-25)."
   ]
  },
  {
   "cell_type": "code",
   "execution_count": 31,
   "metadata": {},
   "outputs": [
    {
     "data": {
      "text/html": [
       "<div>\n",
       "<style scoped>\n",
       "    .dataframe tbody tr th:only-of-type {\n",
       "        vertical-align: middle;\n",
       "    }\n",
       "\n",
       "    .dataframe tbody tr th {\n",
       "        vertical-align: top;\n",
       "    }\n",
       "\n",
       "    .dataframe thead th {\n",
       "        text-align: right;\n",
       "    }\n",
       "</style>\n",
       "<table border=\"1\" class=\"dataframe\">\n",
       "  <thead>\n",
       "    <tr style=\"text-align: right;\">\n",
       "      <th></th>\n",
       "      <th>feature-set</th>\n",
       "      <th>k</th>\n",
       "      <th>RMSE</th>\n",
       "    </tr>\n",
       "  </thead>\n",
       "  <tbody>\n",
       "    <tr>\n",
       "      <td>19</td>\n",
       "      <td>horsepower, curb-weight</td>\n",
       "      <td>20</td>\n",
       "      <td>3479.461168</td>\n",
       "    </tr>\n",
       "    <tr>\n",
       "      <td>55</td>\n",
       "      <td>city-mpg, horsepower, engine-size</td>\n",
       "      <td>8</td>\n",
       "      <td>2999.898323</td>\n",
       "    </tr>\n",
       "    <tr>\n",
       "      <td>10</td>\n",
       "      <td>horsepower, curb-weight</td>\n",
       "      <td>11</td>\n",
       "      <td>3355.498960</td>\n",
       "    </tr>\n",
       "    <tr>\n",
       "      <td>68</td>\n",
       "      <td>city-mpg, horsepower, engine-size</td>\n",
       "      <td>21</td>\n",
       "      <td>4162.309674</td>\n",
       "    </tr>\n",
       "    <tr>\n",
       "      <td>53</td>\n",
       "      <td>city-mpg, horsepower, engine-size</td>\n",
       "      <td>6</td>\n",
       "      <td>2954.003198</td>\n",
       "    </tr>\n",
       "  </tbody>\n",
       "</table>\n",
       "</div>"
      ],
      "text/plain": [
       "                          feature-set   k         RMSE\n",
       "19            horsepower, curb-weight  20  3479.461168\n",
       "55  city-mpg, horsepower, engine-size   8  2999.898323\n",
       "10            horsepower, curb-weight  11  3355.498960\n",
       "68  city-mpg, horsepower, engine-size  21  4162.309674\n",
       "53  city-mpg, horsepower, engine-size   6  2954.003198"
      ]
     },
     "execution_count": 31,
     "metadata": {},
     "output_type": "execute_result"
    }
   ],
   "source": [
    "# Instanstiate a list-of-lists to collect the results\n",
    "knn_multi_f_many_k = []\n",
    "\n",
    "# Instantiate the sets\n",
    "set1 = ['horsepower', 'curb-weight']\n",
    "set2 = ['city-mpg', 'horsepower', 'curb-weight']\n",
    "set3 = ['city-mpg', 'horsepower', 'engine-size']\n",
    "\n",
    "all_sets = [set1, set2, set3]\n",
    "\n",
    "# Iterate through all sets and a range of k-values and get RMSE, and add it into list of list\n",
    "for set in all_sets:\n",
    "    for k in range(1,25):\n",
    "        rmse = knn_train_test(set, 'price', cars_norm, k)\n",
    "        # Create a set-identifier; keeping the entire set itself as identifier gives errors later on when trying to filter the result-dataframe for plotting\n",
    "        setname = ', '.join(set)  \n",
    "        knn_multi_f_many_k.append([setname, k, rmse])\n",
    "        \n",
    "# Convert the list of lists to a dataframe\n",
    "knn_multi_f_many_k_df = pd.DataFrame(knn_multi_f_many_k, columns = ['feature-set', 'k', 'RMSE'])\n",
    "\n",
    "# Show a (reproducable) sample of the results\n",
    "knn_multi_f_many_k_df.sample(5, random_state = 1)"
   ]
  },
  {
   "cell_type": "markdown",
   "metadata": {},
   "source": [
    "Let's plot the results."
   ]
  },
  {
   "cell_type": "code",
   "execution_count": 32,
   "metadata": {},
   "outputs": [
    {
     "data": {
      "image/png": "[encoded data removed]",
      "text/plain": [
       "<Figure size 864x576 with 1 Axes>"
      ]
     },
     "metadata": {
      "needs_background": "light"
     },
     "output_type": "display_data"
    }
   ],
   "source": [
    "# Instantiate plot\n",
    "fig, ax = plt.subplots(figsize = (12,8))\n",
    "\n",
    "# Simplify df name for convenience\n",
    "kmm = knn_multi_f_many_k_df.copy()\n",
    "\n",
    "# Get set-names\n",
    "set_names = kmm['feature-set'].unique()\n",
    "\n",
    "# Plot a line for every set\n",
    "for set in set_names:\n",
    "    plt.plot(kmm[kmm['feature-set']==set]['k'], kmm[kmm['feature-set']==set]['RMSE'])\n",
    "    \n",
    "# Set various drawing attributes\n",
    "ax.set_xlabel('value of k')\n",
    "ax.set_ylabel('RMSE')\n",
    "plt.title('RMSE for different k values for multi-variate knn models')\n",
    "plt.legend(all_sets)\n",
    "\n",
    "# Show\n",
    "plt.show()"
   ]
  },
  {
   "cell_type": "markdown",
   "metadata": {},
   "source": [
    "Let's also list the ten best results."
   ]
  },
  {
   "cell_type": "code",
   "execution_count": 33,
   "metadata": {},
   "outputs": [
    {
     "data": {
      "text/html": [
       "<div>\n",
       "<style scoped>\n",
       "    .dataframe tbody tr th:only-of-type {\n",
       "        vertical-align: middle;\n",
       "    }\n",
       "\n",
       "    .dataframe tbody tr th {\n",
       "        vertical-align: top;\n",
       "    }\n",
       "\n",
       "    .dataframe thead th {\n",
       "        text-align: right;\n",
       "    }\n",
       "</style>\n",
       "<table border=\"1\" class=\"dataframe\">\n",
       "  <thead>\n",
       "    <tr style=\"text-align: right;\">\n",
       "      <th></th>\n",
       "      <th>feature-set</th>\n",
       "      <th>k</th>\n",
       "      <th>RMSE</th>\n",
       "    </tr>\n",
       "  </thead>\n",
       "  <tbody>\n",
       "    <tr>\n",
       "      <td>26</td>\n",
       "      <td>city-mpg, horsepower, curb-weight</td>\n",
       "      <td>3</td>\n",
       "      <td>2621.125230</td>\n",
       "    </tr>\n",
       "    <tr>\n",
       "      <td>4</td>\n",
       "      <td>horsepower, curb-weight</td>\n",
       "      <td>5</td>\n",
       "      <td>2646.573449</td>\n",
       "    </tr>\n",
       "    <tr>\n",
       "      <td>30</td>\n",
       "      <td>city-mpg, horsepower, curb-weight</td>\n",
       "      <td>7</td>\n",
       "      <td>2664.520537</td>\n",
       "    </tr>\n",
       "    <tr>\n",
       "      <td>5</td>\n",
       "      <td>horsepower, curb-weight</td>\n",
       "      <td>6</td>\n",
       "      <td>2689.808407</td>\n",
       "    </tr>\n",
       "    <tr>\n",
       "      <td>3</td>\n",
       "      <td>horsepower, curb-weight</td>\n",
       "      <td>4</td>\n",
       "      <td>2700.128805</td>\n",
       "    </tr>\n",
       "    <tr>\n",
       "      <td>27</td>\n",
       "      <td>city-mpg, horsepower, curb-weight</td>\n",
       "      <td>4</td>\n",
       "      <td>2700.386380</td>\n",
       "    </tr>\n",
       "    <tr>\n",
       "      <td>50</td>\n",
       "      <td>city-mpg, horsepower, engine-size</td>\n",
       "      <td>3</td>\n",
       "      <td>2736.485256</td>\n",
       "    </tr>\n",
       "    <tr>\n",
       "      <td>29</td>\n",
       "      <td>city-mpg, horsepower, curb-weight</td>\n",
       "      <td>6</td>\n",
       "      <td>2789.845446</td>\n",
       "    </tr>\n",
       "    <tr>\n",
       "      <td>6</td>\n",
       "      <td>horsepower, curb-weight</td>\n",
       "      <td>7</td>\n",
       "      <td>2826.372538</td>\n",
       "    </tr>\n",
       "    <tr>\n",
       "      <td>31</td>\n",
       "      <td>city-mpg, horsepower, curb-weight</td>\n",
       "      <td>8</td>\n",
       "      <td>2871.616589</td>\n",
       "    </tr>\n",
       "  </tbody>\n",
       "</table>\n",
       "</div>"
      ],
      "text/plain": [
       "                          feature-set  k         RMSE\n",
       "26  city-mpg, horsepower, curb-weight  3  2621.125230\n",
       "4             horsepower, curb-weight  5  2646.573449\n",
       "30  city-mpg, horsepower, curb-weight  7  2664.520537\n",
       "5             horsepower, curb-weight  6  2689.808407\n",
       "3             horsepower, curb-weight  4  2700.128805\n",
       "27  city-mpg, horsepower, curb-weight  4  2700.386380\n",
       "50  city-mpg, horsepower, engine-size  3  2736.485256\n",
       "29  city-mpg, horsepower, curb-weight  6  2789.845446\n",
       "6             horsepower, curb-weight  7  2826.372538\n",
       "31  city-mpg, horsepower, curb-weight  8  2871.616589"
      ]
     },
     "execution_count": 33,
     "metadata": {},
     "output_type": "execute_result"
    }
   ],
   "source": [
    "# List the 10 best results (lowest RMSE)\n",
    "kmm.sort_values('RMSE').head(10)"
   ]
  },
  {
   "cell_type": "markdown",
   "metadata": {},
   "source": [
    "The thing that stands out is that lower k-values are better. This is not entirely unexpected. The data set is very small (only 201 records after cleaning) and still covers a wide variety of cars. Therefore one can expect that adding too many neighbors means including neighbors that are really not so near, making the model worse.\n",
    "\n",
    "As for the best feauture set, that seems to include horse-power and curb-weight in any case, either or not with city-mpg added to it."
   ]
  },
  {
   "cell_type": "markdown",
   "metadata": {},
   "source": [
    "## 2.7 Sensitivity to the split train / test\n",
    "\n",
    "So far, for all experiments we used a value of 0.25 for input parameter test_fraction, meaning that we used 75% for training and 25% for testing.\n",
    "\n",
    "That is a common way to split. However, given the very small amount of data that we have, we may wonder whether it has significant impact which records end up and in training and test set. \n",
    "\n",
    "One could vary with different random seeds. Let's try something else though: vary with this fraction. What we will do is take our best univariate result, and our best multivariate result, and for both of them try out different fractions for train/test."
   ]
  },
  {
   "cell_type": "code",
   "execution_count": 34,
   "metadata": {},
   "outputs": [
    {
     "name": "stdout",
     "output_type": "stream",
     "text": [
      "For test_fraction 0.05 the RMSE is 1751.4815546741097\n",
      "For test_fraction 0.1 the RMSE is 3731.1404316421704\n",
      "For test_fraction 0.25 the RMSE is 2960.5849687685836\n",
      "For test_fraction 0.5 the RMSE is 4162.384902025191\n"
     ]
    }
   ],
   "source": [
    "# Best univariate result found: city-mpg, k = 3\n",
    "selected_features = ['city-mpg']\n",
    "k = 3\n",
    "\n",
    "# Try out different fractions for train/test\n",
    "for test_fraction in (0.05, 0.1, 0.25, 0.5):\n",
    "    rmse = knn_train_test(selected_features,\"price\", cars_norm, k, test_fraction)\n",
    "    print (\"For test_fraction\", test_fraction, \"the RMSE is\", rmse)"
   ]
  },
  {
   "cell_type": "code",
   "execution_count": 35,
   "metadata": {},
   "outputs": [
    {
     "name": "stdout",
     "output_type": "stream",
     "text": [
      "For test_fraction 0.05 the RMSE is 980.2870121870562\n",
      "For test_fraction 0.1 the RMSE is 2128.8577581645404\n",
      "For test_fraction 0.25 the RMSE is 2621.1252302717025\n",
      "For test_fraction 0.5 the RMSE is 3312.9853096967136\n"
     ]
    }
   ],
   "source": [
    "# Best multivariate result found: city-mpg + horsepower + curb-weight, k = 3\n",
    "selected_features = ['city-mpg','horsepower', 'curb-weight']\n",
    "k = 3\n",
    "\n",
    "for test_fraction in (0.05, 0.1, 0.25, 0.5):\n",
    "    rmse = knn_train_test(selected_features,\"price\", cars_norm, 3, test_fraction)\n",
    "    print (\"For test_fraction\", test_fraction, \"the RMSE is\", rmse)"
   ]
  },
  {
   "cell_type": "markdown",
   "metadata": {},
   "source": [
    "So. That has **a lot** of influence indeed. The outcomes vary wildly with the fractions train / test. This really means that we should be very careful to draw any conclusion from what we have seen so far.\n",
    "\n",
    "One might consider:\n",
    "* Analyzing better which value for test-fraction appears to give the best results\n",
    "* Redoing the univariate tests again with that test-fraction, as this may then also impact which features are best\n",
    "* Also vary with different random-seeds for creation of the train/test datasets, as it may then have impact as well which orders happen to be selected for both sets\n",
    "* Or, as an alternative to test/train, apply K-fold validation instead to get more consistent results\n",
    "\n",
    "However, given the very small size of the dataset, we may wonder whether we can get to a good model altogether."
   ]
  },
  {
   "cell_type": "markdown",
   "metadata": {},
   "source": [
    "# 3. Conclusions and possible next steps\n",
    "\n",
    "What we have seen is that when applying k-nearest neighbor on our small set of data, the following features appear to be the best predictors for the price:\n",
    "* city-mpg\n",
    "* horsepower\n",
    "* curb-weight\n",
    "* engine-size\n",
    "\n",
    "Using a multivariate model, using several of these features at the same time, gives slightly better results: the RMSE (root-mean-square-error) decreases with approximately 10 percent points.\n",
    "\n",
    "The optimal number for k (that is: the number of nearest neighbors to use for prediction) seems to be around 3.\n",
    "\n",
    "However, the very small size of the data makes it heard to build a robust, reliable model: slight variations in which data is in the training set and which in the test set, give significant differences in the outcome.\n",
    "\n",
    "Therefore, rather than trying to improve the prediction model further, let's leave it to this, consider this a great excercise, and do a next project with a larger dataset!"
   ]
  }
 ],
 "metadata": {
  "kernelspec": {
   "display_name": "Python 3",
   "language": "python",
   "name": "python3"
  },
  "language_info": {
   "codemirror_mode": {
    "name": "ipython",
    "version": 3
   },
   "file_extension": ".py",
   "mimetype": "text/x-python",
   "name": "python",
   "nbconvert_exporter": "python",
   "pygments_lexer": "ipython3",
   "version": "3.7.4"
  }
 },
 "nbformat": 4,
 "nbformat_minor": 2
}
